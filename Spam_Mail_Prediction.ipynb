{
  "nbformat": 4,
  "nbformat_minor": 0,
  "metadata": {
    "colab": {
      "provenance": [],
      "collapsed_sections": [],
      "authorship_tag": "ABX9TyN8LLb4pzCz7nkQBS5h2rvb",
      "include_colab_link": true
    },
    "kernelspec": {
      "name": "python3",
      "display_name": "Python 3"
    },
    "language_info": {
      "name": "python"
    }
  },
  "cells": [
    {
      "cell_type": "markdown",
      "metadata": {
        "id": "view-in-github",
        "colab_type": "text"
      },
      "source": [
        "<a href=\"https://colab.research.google.com/github/ram9666/Spam_Mail_Prediction/blob/main/Spam_Mail_Prediction.ipynb\" target=\"_parent\"><img src=\"https://colab.research.google.com/assets/colab-badge.svg\" alt=\"Open In Colab\"/></a>"
      ]
    },
    {
      "cell_type": "markdown",
      "source": [
        "Importing dependencies"
      ],
      "metadata": {
        "id": "CNqYzYNVIIZF"
      }
    },
    {
      "cell_type": "code",
      "execution_count": 24,
      "metadata": {
        "id": "1yoLfyFSuuSD"
      },
      "outputs": [],
      "source": [
        "import numpy as np\n",
        "import pandas as pd\n",
        "from sklearn.metrics import accuracy_score\n",
        "from sklearn.feature_extraction.text import TfidfVectorizer\n",
        "from sklearn.model_selection import train_test_split\n",
        "from sklearn.linear_model import LogisticRegression\n",
        "\n"
      ]
    },
    {
      "cell_type": "markdown",
      "source": [
        "Data Collection& preprocessing"
      ],
      "metadata": {
        "id": "SipJYdoGJlZ5"
      }
    },
    {
      "cell_type": "code",
      "source": [
        "raw_mail_data  = pd.read_csv(\"/content/mail_data.csv\")  # loading the data from csv file to a pandas Dataframe\n",
        "#print(raw_mail_data)\n"
      ],
      "metadata": {
        "id": "ovlpyn3Cv-_M"
      },
      "execution_count": 25,
      "outputs": []
    },
    {
      "cell_type": "code",
      "source": [
        "mail_data = raw_mail_data.where((pd.notnull(raw_mail_data)),'') # replace the null values with a null string\n",
        "mail_data.shape  # checking the number of rows and columns in the datafram"
      ],
      "metadata": {
        "colab": {
          "base_uri": "https://localhost:8080/"
        },
        "id": "znfUGU7YKEwv",
        "outputId": "46cdafc3-2c84-4282-c81d-c165a5fb8875"
      },
      "execution_count": 26,
      "outputs": [
        {
          "output_type": "execute_result",
          "data": {
            "text/plain": [
              "(5572, 2)"
            ]
          },
          "metadata": {},
          "execution_count": 26
        }
      ]
    },
    {
      "cell_type": "markdown",
      "source": [
        "Labeling the data spam mail - 0 ; ham mail - 1"
      ],
      "metadata": {
        "id": "zsDu2exkLowt"
      }
    },
    {
      "cell_type": "code",
      "source": [
        "mail_data.loc[mail_data['Category']=='spam', 'Category'] = 0\n",
        "mail_data.loc[mail_data['Category']=='ham', 'Category'] = 1\n",
        "#print(mail_data.head(5))"
      ],
      "metadata": {
        "id": "xzsaS9ejLPHi"
      },
      "execution_count": 27,
      "outputs": []
    },
    {
      "cell_type": "code",
      "source": [
        "X = mail_data['Message'] # separating the data as texts and label\n",
        "Y = mail_data['Category']\n",
        "#print(X)"
      ],
      "metadata": {
        "id": "BZ2swygkMpVe"
      },
      "execution_count": 28,
      "outputs": []
    },
    {
      "cell_type": "markdown",
      "source": [
        "Splitting the data into training data & test data"
      ],
      "metadata": {
        "id": "rTfXaiD5dvGH"
      }
    },
    {
      "cell_type": "code",
      "source": [
        "X_train, X_test,Y_train,Y_test =train_test_split(X,Y, test_size = 0.2, random_state = 3) \n",
        "# X_train.shape"
      ],
      "metadata": {
        "id": "4imbx-PBNMc0"
      },
      "execution_count": 54,
      "outputs": []
    },
    {
      "cell_type": "code",
      "source": [
        "# transform the text data to feature vectors that can be used as input to the Logistic regression\n",
        "\n",
        "feature_extraction = TfidfVectorizer(min_df = 1, stop_words = 'english', lowercase = \"True\")\n",
        "X_train_features = feature_extraction.fit_transform(X_train)\n",
        "X_test_features = feature_extraction.transform(X_test)\n",
        "\n",
        "# convert Y_train and Y_test values as integers\n",
        "\n",
        "Y_train = Y_train.astype('int')\n",
        "Y_test = Y_test.astype('int')\n",
        "#print(X_test_features)"
      ],
      "metadata": {
        "id": "fVgnqAlDeOZt"
      },
      "execution_count": 55,
      "outputs": []
    },
    {
      "cell_type": "markdown",
      "source": [
        "Training the Model(LogisticRegression)"
      ],
      "metadata": {
        "id": "0tH0Levzim80"
      }
    },
    {
      "cell_type": "code",
      "source": [
        "model = LogisticRegression()\n",
        "model.fit(X_train_features,Y_train)\n",
        "\n",
        "#Evaluating the trained model\n",
        "\n",
        "prediction_on_train_data = model.predict(X_train_features)\n",
        "accuracy_on_training_data = accuracy_score(prediction_on_train_data, Y_train)\n",
        "#print(accuracy_on_training_data)\n",
        "\n",
        "#accuracy on test data\n",
        "prediction_on_test_data = model.predict(X_test_features)\n",
        "accuracy_on_test_data = accuracy_score(prediction_on_test_data, Y_test)\n",
        "#print(accuracy_on_test_data)"
      ],
      "metadata": {
        "id": "Rpyz277We8Gy"
      },
      "execution_count": 56,
      "outputs": []
    },
    {
      "cell_type": "code",
      "source": [
        "Input_mail = [\"WINNER!! As a valued network customer you have been selected to receivea Â£900 prize reward! To claim call 09061701461. Claim code KL341. Valid 12 hours only.spam,Had your mobile 11 months or more? U R entitled to Update to the latest colour mobiles with camera for Free! Call The Mobile Update Co FREE on 08002986030\"]\n",
        "\n",
        "feature_vector = feature_extraction.transform(Input_mail)\n",
        "prediction  = model.predict(feature_vector)\n",
        "print(prediction)\n",
        "if (prediction[0]==1):\n",
        "  print('Ham mail')\n",
        "\n",
        "else:\n",
        "  print('Spam mail')"
      ],
      "metadata": {
        "colab": {
          "base_uri": "https://localhost:8080/"
        },
        "id": "hxJMwb4Kjx_G",
        "outputId": "16d8188c-1d57-44ce-fa89-945ca1e45a39"
      },
      "execution_count": 58,
      "outputs": [
        {
          "output_type": "stream",
          "name": "stdout",
          "text": [
            "[0]\n",
            "Spam mail\n"
          ]
        }
      ]
    },
    {
      "cell_type": "code",
      "source": [],
      "metadata": {
        "id": "bIVzxIV4lUjK"
      },
      "execution_count": null,
      "outputs": []
    }
  ]
}